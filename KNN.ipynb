{
 "cells": [
  {
   "cell_type": "code",
   "execution_count": 2,
   "metadata": {},
   "outputs": [
    {
     "name": "stdout",
     "output_type": "stream",
     "text": [
      "{'Activity': {'LAYING': 1, 'SITTING': 2, 'STANDING': 3, 'WALKING': 4, 'WALKING_DOWNSTAIRS': 5, 'WALKING_UPSTAIRS': 6}}\n"
     ]
    },
    {
     "name": "stderr",
     "output_type": "stream",
     "text": [
      "C:\\Users\\Trang Tran\\Anaconda3\\lib\\site-packages\\ipykernel_launcher.py:61: DataConversionWarning: A column-vector y was passed when a 1d array was expected. Please change the shape of y to (n_samples, ), for example using ravel().\n"
     ]
    },
    {
     "name": "stdout",
     "output_type": "stream",
     "text": [
      "train_accuracy for knn 1 1.0\n"
     ]
    },
    {
     "name": "stderr",
     "output_type": "stream",
     "text": [
      "C:\\Users\\Trang Tran\\Anaconda3\\lib\\site-packages\\ipykernel_launcher.py:61: DataConversionWarning: A column-vector y was passed when a 1d array was expected. Please change the shape of y to (n_samples, ), for example using ravel().\n"
     ]
    },
    {
     "name": "stdout",
     "output_type": "stream",
     "text": [
      "train_accuracy for knn 3 0.9831338411316648\n"
     ]
    },
    {
     "name": "stderr",
     "output_type": "stream",
     "text": [
      "C:\\Users\\Trang Tran\\Anaconda3\\lib\\site-packages\\ipykernel_launcher.py:61: DataConversionWarning: A column-vector y was passed when a 1d array was expected. Please change the shape of y to (n_samples, ), for example using ravel().\n"
     ]
    },
    {
     "name": "stdout",
     "output_type": "stream",
     "text": [
      "train_accuracy for knn 5 0.9760609357997824\n"
     ]
    },
    {
     "name": "stderr",
     "output_type": "stream",
     "text": [
      "C:\\Users\\Trang Tran\\Anaconda3\\lib\\site-packages\\ipykernel_launcher.py:61: DataConversionWarning: A column-vector y was passed when a 1d array was expected. Please change the shape of y to (n_samples, ), for example using ravel().\n"
     ]
    },
    {
     "name": "stdout",
     "output_type": "stream",
     "text": [
      "train_accuracy for knn 7 0.970620239390642\n"
     ]
    },
    {
     "name": "stderr",
     "output_type": "stream",
     "text": [
      "C:\\Users\\Trang Tran\\Anaconda3\\lib\\site-packages\\ipykernel_launcher.py:61: DataConversionWarning: A column-vector y was passed when a 1d array was expected. Please change the shape of y to (n_samples, ), for example using ravel().\n"
     ]
    },
    {
     "name": "stdout",
     "output_type": "stream",
     "text": [
      "train_accuracy for knn 9 0.9646354733405876\n"
     ]
    },
    {
     "name": "stderr",
     "output_type": "stream",
     "text": [
      "C:\\Users\\Trang Tran\\Anaconda3\\lib\\site-packages\\ipykernel_launcher.py:61: DataConversionWarning: A column-vector y was passed when a 1d array was expected. Please change the shape of y to (n_samples, ), for example using ravel().\n"
     ]
    },
    {
     "name": "stdout",
     "output_type": "stream",
     "text": [
      "train_accuracy for knn 11 0.9600108813928183\n"
     ]
    },
    {
     "name": "stderr",
     "output_type": "stream",
     "text": [
      "C:\\Users\\Trang Tran\\Anaconda3\\lib\\site-packages\\ipykernel_launcher.py:61: DataConversionWarning: A column-vector y was passed when a 1d array was expected. Please change the shape of y to (n_samples, ), for example using ravel().\n"
     ]
    },
    {
     "name": "stdout",
     "output_type": "stream",
     "text": [
      "train_accuracy for knn 13 0.956474428726877\n"
     ]
    },
    {
     "name": "stderr",
     "output_type": "stream",
     "text": [
      "C:\\Users\\Trang Tran\\Anaconda3\\lib\\site-packages\\ipykernel_launcher.py:80: DataConversionWarning: A column-vector y was passed when a 1d array was expected. Please change the shape of y to (n_samples, ), for example using ravel().\n"
     ]
    },
    {
     "name": "stdout",
     "output_type": "stream",
     "text": [
      "test_accuracy for knn 1 [0.84390906]\n"
     ]
    },
    {
     "name": "stderr",
     "output_type": "stream",
     "text": [
      "C:\\Users\\Trang Tran\\Anaconda3\\lib\\site-packages\\ipykernel_launcher.py:80: DataConversionWarning: A column-vector y was passed when a 1d array was expected. Please change the shape of y to (n_samples, ), for example using ravel().\n"
     ]
    },
    {
     "name": "stdout",
     "output_type": "stream",
     "text": [
      "test_accuracy for knn 3 0.8588394977943672\n"
     ]
    },
    {
     "name": "stderr",
     "output_type": "stream",
     "text": [
      "C:\\Users\\Trang Tran\\Anaconda3\\lib\\site-packages\\ipykernel_launcher.py:80: DataConversionWarning: A column-vector y was passed when a 1d array was expected. Please change the shape of y to (n_samples, ), for example using ravel().\n"
     ]
    },
    {
     "name": "stdout",
     "output_type": "stream",
     "text": [
      "test_accuracy for knn 5 0.8612147947064812\n"
     ]
    },
    {
     "name": "stderr",
     "output_type": "stream",
     "text": [
      "C:\\Users\\Trang Tran\\Anaconda3\\lib\\site-packages\\ipykernel_launcher.py:80: DataConversionWarning: A column-vector y was passed when a 1d array was expected. Please change the shape of y to (n_samples, ), for example using ravel().\n"
     ]
    },
    {
     "name": "stdout",
     "output_type": "stream",
     "text": [
      "test_accuracy for knn 7 0.8669833729216152\n"
     ]
    },
    {
     "name": "stderr",
     "output_type": "stream",
     "text": [
      "C:\\Users\\Trang Tran\\Anaconda3\\lib\\site-packages\\ipykernel_launcher.py:80: DataConversionWarning: A column-vector y was passed when a 1d array was expected. Please change the shape of y to (n_samples, ), for example using ravel().\n"
     ]
    },
    {
     "name": "stdout",
     "output_type": "stream",
     "text": [
      "test_accuracy for knn 9 0.8676620291822192\n"
     ]
    },
    {
     "name": "stderr",
     "output_type": "stream",
     "text": [
      "C:\\Users\\Trang Tran\\Anaconda3\\lib\\site-packages\\ipykernel_launcher.py:80: DataConversionWarning: A column-vector y was passed when a 1d array was expected. Please change the shape of y to (n_samples, ), for example using ravel().\n"
     ]
    },
    {
     "name": "stdout",
     "output_type": "stream",
     "text": [
      "test_accuracy for knn 11 0.8690193417034272\n"
     ]
    },
    {
     "name": "stderr",
     "output_type": "stream",
     "text": [
      "C:\\Users\\Trang Tran\\Anaconda3\\lib\\site-packages\\ipykernel_launcher.py:80: DataConversionWarning: A column-vector y was passed when a 1d array was expected. Please change the shape of y to (n_samples, ), for example using ravel().\n"
     ]
    },
    {
     "name": "stdout",
     "output_type": "stream",
     "text": [
      "test_accuracy for knn 13 0.8652867322701052\n"
     ]
    },
    {
     "data": {
      "text/plain": [
       "<matplotlib.axes._subplots.AxesSubplot at 0x271335ac508>"
      ]
     },
     "execution_count": 2,
     "metadata": {},
     "output_type": "execute_result"
    }
   ],
   "source": [
    "#!/usr/bin/env python\n",
    "# coding: utf-8\n",
    "\n",
    "# In[448]:\n",
    "\n",
    "\n",
    "import pandas as pd\n",
    "import numpy as np\n",
    "#Import data\n",
    "\n",
    "har=pd.read_csv(\"C:/Dataset//train.csv\")\n",
    "independent=har.drop([\"Activity\",\"subject\"],axis=1)\n",
    "independent\n",
    "#Finding attributes with high correlation and removing them.\n",
    "corr_matrix=independent.corr().abs()\n",
    "upper=corr_matrix.where(np.triu(np.ones(corr_matrix.shape),k=1).astype(np.bool))\n",
    "to_drop=[column for column in upper.columns if any(upper[column]>0.70)]\n",
    "len(to_drop)\n",
    "\n",
    "X_train=independent.drop(independent[to_drop],axis=1)\n",
    "y_train=pd.DataFrame(har[['Activity']])\n",
    "#Categorizing our dependent variable\n",
    "replace_map = {'Activity': {'LAYING': 0, 'SITTING': 1, 'STANDING': 2, 'WALKING': 3,\n",
    "                                  'WALKING_DOWNSTAIRS': 4, 'WALKING_UPSTAIRS': 5}} \n",
    "labels = y_train['Activity'].astype('category').cat.categories.tolist()\n",
    "replace_map_comp = {'Activity' : {k: v for k,v in zip(labels,list(range(1,len(labels)+1)))}}\n",
    "\n",
    "y_train.replace(replace_map_comp, inplace=True)\n",
    "\n",
    "#Importing Test data\n",
    "test=pd.read_csv(\"C:/Dataset//test.csv\")\n",
    "independent_test=test.drop([\"Activity\",\"subject\"],axis=1)\n",
    "\n",
    "X_test=independent_test.drop(independent_test[to_drop],axis=1)\n",
    "\n",
    "#Categorizing the test attribute\n",
    "y_test=pd.DataFrame(test[['Activity']])\n",
    "replace_map = {'Activity': {'LAYING': 0, 'SITTING': 1, 'STANDING': 2, 'WALKING': 3,\n",
    "                                  'WALKING_DOWNSTAIRS': 4, 'WALKING_UPSTAIRS': 5}} \n",
    "labels = y_test['Activity'].astype('category').cat.categories.tolist()\n",
    "replace_map_comp = {'Activity' : {k: v for k,v in zip(labels,list(range(1,len(labels)+1)))}}\n",
    "\n",
    "print(replace_map_comp)\n",
    "y_test.replace(replace_map_comp, inplace=True)\n",
    "\n",
    "# Creating a list with the k values we want to concentrate on\n",
    "odd=list(range(1, 14, 2))\n",
    "\n",
    "#Building an array with 0 values\n",
    "Accuracy = np.zeros(shape=(14,3))\n",
    "\n",
    "\n",
    "from sklearn.neighbors import KNeighborsClassifier\n",
    "from sklearn.metrics import confusion_matrix\n",
    "\n",
    "# Creating a loop for finding training accuracy of the knn model for various k values\n",
    "sum_testop=0\n",
    "for i in odd:\n",
    "    knn = KNeighborsClassifier(n_neighbors=i, metric='euclidean')\n",
    "    knn.fit(X_train,y_train)\n",
    "    train_pred=knn.predict(X_train)\n",
    "    cm_train1=confusion_matrix(y_train,train_pred)\n",
    "    for x in range(len(cm_train1)):\n",
    "        for y in range(len(cm_train1[0])):\n",
    "            if x==y:\n",
    "                sum_testop+=cm_train1[x,y]\n",
    "    train_accuracy=sum_testop/len(y_train)\n",
    "    Accuracy[i,1]=train_accuracy\n",
    "    Accuracy[i,0]=i\n",
    "    print (\"train_accuracy for knn\",i, train_accuracy)\n",
    "    sum_testop=0 \n",
    "\n",
    "\n",
    "# Creating a loop for finding testing accuracy of the knn model for various k values\n",
    "\n",
    "sum_test1=[0]\n",
    "for i in odd:\n",
    "    knn = KNeighborsClassifier(n_neighbors=i, metric='euclidean')\n",
    "    knn.fit(X_train,y_train)    \n",
    "    test_pred=knn.predict(X_test)\n",
    "    cm_test1=confusion_matrix(y_test,test_pred)\n",
    "    for x in range(len(cm_test1)):\n",
    "        for y in range(len(cm_test1[0])):\n",
    "            if x==y:\n",
    "                sum_test1+=cm_test1[x,y]\n",
    "    test_accuracy=sum_test1/len(y_test)\n",
    "    Accuracy[i,2]=test_accuracy\n",
    "    print (\"test_accuracy for knn\",i, test_accuracy)\n",
    "    sum_test1=0 \n",
    "\n",
    "Accuracy\n",
    "\n",
    "even=list(range(0, 13, 2))\n",
    "\n",
    "Accuracy1=np.delete(Accuracy,even,0)\n",
    "\n",
    "Accuracy_table = pd.DataFrame(data=Accuracy1, columns=['NN','Training Accuracy','Test Accuracy'])\n",
    "# Plotting error val\n",
    "\n",
    "import matplotlib.pyplot as plt\n",
    "plt.style.use('seaborn-whitegrid')\n",
    "\n",
    "\n",
    "Error= np.zeros(shape=(7,0))\n",
    "Train_Error=1-Accuracy_table['Training Accuracy']\n",
    "Test_Error=1-Accuracy_table['Test Accuracy']\n",
    "\n",
    "Accuracy_table['Training_Error'] = 1-Accuracy_table['Training Accuracy']\n",
    "Accuracy_table['Test_Error'] = 1-Accuracy_table['Test Accuracy']\n",
    "Accuracy_table\n",
    "\n",
    "ax = plt.gca()\n",
    "Accuracy_table.plot(kind='line',x='NN',y='Training_Error',ax=ax)\n",
    "Accuracy_table.plot(kind='line',x='NN',y='Test_Error', color='red', ax=ax)\n",
    "\n",
    "\n",
    "\n",
    "\n",
    "\n"
   ]
  },
  {
   "cell_type": "code",
   "execution_count": null,
   "metadata": {},
   "outputs": [],
   "source": []
  }
 ],
 "metadata": {
  "kernelspec": {
   "display_name": "Python 3",
   "language": "python",
   "name": "python3"
  },
  "language_info": {
   "codemirror_mode": {
    "name": "ipython",
    "version": 3
   },
   "file_extension": ".py",
   "mimetype": "text/x-python",
   "name": "python",
   "nbconvert_exporter": "python",
   "pygments_lexer": "ipython3",
   "version": "3.7.6"
  }
 },
 "nbformat": 4,
 "nbformat_minor": 2
}
